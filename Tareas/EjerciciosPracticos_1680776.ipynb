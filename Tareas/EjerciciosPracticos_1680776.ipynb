{
 "cells": [
  {
   "cell_type": "markdown",
   "metadata": {},
   "source": [
    "Programa 1 Hola Mundo"
   ]
  },
  {
   "cell_type": "code",
   "execution_count": 2,
   "metadata": {},
   "outputs": [
    {
     "name": "stdout",
     "output_type": "stream",
     "text": [
      "Hola Mundo\n"
     ]
    }
   ],
   "source": [
    "print(\"Hola Mundo\")"
   ]
  },
  {
   "cell_type": "markdown",
   "metadata": {},
   "source": [
    "Ejercicio 1:\n",
    "Realiza una variable con tu matricula y realiza una secuencia de imprimir con tu nombre y tu matricula concatenados."
   ]
  },
  {
   "cell_type": "code",
   "execution_count": 3,
   "metadata": {},
   "outputs": [
    {
     "name": "stdout",
     "output_type": "stream",
     "text": [
      "Cristian Antonio Jaramillo Arriaga 1680776\n"
     ]
    }
   ],
   "source": [
    "m = 1680776\n",
    "print (\"Cristian Antonio Jaramillo Arriaga\", +m)"
   ]
  },
  {
   "cell_type": "markdown",
   "metadata": {},
   "source": [
    "Ejercicio 2:\n",
    "Pidiendo el input del usuario pide dos números y crea una pequeña calculadora con los operadores básicos de suma, resta, multiplicación, división, y exponente."
   ]
  },
  {
   "cell_type": "code",
   "execution_count": 5,
   "metadata": {},
   "outputs": [
    {
     "name": "stdout",
     "output_type": "stream",
     "text": [
      "Numero 1:1\n",
      "Numero 2:1\n",
      "Suma =  2\n",
      "Resta =  0\n",
      "Multiplicacion =   1\n",
      "Division: =  1.0\n",
      "Exponente: =  2.718281828459045\n"
     ]
    }
   ],
   "source": [
    "import math as m\n",
    "\n",
    "n1 = int(input(\"Numero 1:\"))\n",
    "n2 = int(input(\"Numero 2:\"))\n",
    "\n",
    "suma = n1 + n2\n",
    "resta = n1 - n2\n",
    "multiplicacion = n1 * n2\n",
    "division = n1 / n2\n",
    "exponente= m.exp(n1)\n",
    "\n",
    "print(\"Suma = \",+suma)\n",
    "print(\"Resta = \", +resta)\n",
    "print(\"Multiplicacion =  \", +multiplicacion)\n",
    "print(\"Division: = \", +division)\n",
    "print(\"Exponente: = \", +exponente)"
   ]
  },
  {
   "cell_type": "markdown",
   "metadata": {},
   "source": [
    "\n",
    "\n",
    "Ejercicio 3:\n",
    "Con loop while o for, realiza una lista de 10 numeros multiplos de 3, y después realiza una función de loop que sume todos los números dentro del arreglo."
   ]
  },
  {
   "cell_type": "code",
   "execution_count": 12,
   "metadata": {},
   "outputs": [
    {
     "name": "stdout",
     "output_type": "stream",
     "text": [
      "[0, 3, 6, 9, 12, 15, 18, 21, 24, 27]\n",
      "Resultado =  135\n"
     ]
    }
   ],
   "source": [
    "lista = []\n",
    "suma = 0\n",
    "for i in range (0, 30, 3):\n",
    "    lista.append(i)\n",
    "print (lista)\n",
    "\n",
    "for i in lista:\n",
    "    \n",
    "    suma = suma + i\n",
    "    \n",
    "print(\"Resultado = \", +suma)"
   ]
  },
  {
   "cell_type": "markdown",
   "metadata": {},
   "source": [
    "\n",
    "Ejercicio 4:\n",
    "Con una función de if else, revisar si un número es par o es impar.\n",
    "Con una función de if else, revisar si un número es primo o no."
   ]
  },
  {
   "cell_type": "code",
   "execution_count": 14,
   "metadata": {},
   "outputs": [
    {
     "name": "stdout",
     "output_type": "stream",
     "text": [
      "Piensa en un numero: 1\n",
      "1 Tu numero es impar\n"
     ]
    }
   ],
   "source": [
    "n = int(input(\"Piensa en un numero: \"))\n",
    "if n % 2 == 0:\n",
    "    print(+n, \"Tu numero es par\")\n",
    "else:\n",
    "    print(+n, \"Tu numero es impar\")"
   ]
  },
  {
   "cell_type": "code",
   "execution_count": 18,
   "metadata": {},
   "outputs": [
    {
     "name": "stdout",
     "output_type": "stream",
     "text": [
      "Piensa en un numero: 3\n",
      "3 Tu numero es primo\n"
     ]
    }
   ],
   "source": [
    "n = int(input(\"Piensa en un numero: \"))\n",
    "cont = 0\n",
    "for i in range(1, n + 1):\n",
    "    if (n % i)==0:\n",
    "        cont = cont + 1\n",
    "\n",
    "if cont == 2:\n",
    "    print (+n, \"Tu numero es primo\")\n",
    "else:\n",
    "    print (+n, \"Tu numero no es primo\")"
   ]
  },
  {
   "cell_type": "markdown",
   "metadata": {},
   "source": [
    "Ejercicio 5:\n",
    "Utilizando diferentes clases en python, crea una calculadora con los operadores básicos de suma, resta, multiplicación, división, y exponente."
   ]
  },
  {
   "cell_type": "code",
   "execution_count": 21,
   "metadata": {},
   "outputs": [
    {
     "name": "stdout",
     "output_type": "stream",
     "text": [
      "Numero 1: 1\n",
      "Numero 2: 1\n",
      "Suma:  2\n",
      "Resta:  0\n",
      "Multiplicacion:  1\n",
      "Division:  1.0\n",
      "Exponencial:  2.718281828459045\n"
     ]
    }
   ],
   "source": [
    "import math as m\n",
    "\n",
    "def resta(num1, num2):\n",
    "        r = num1 - num2\n",
    "        return r\n",
    "\n",
    "def suma(num1, num2):\n",
    "        sum = num1 + num2\n",
    "        return sum\n",
    "\n",
    "def multiplicacion(num1, num2):\n",
    "        mult = num1 * num2\n",
    "        return mult\n",
    "\n",
    "def division(num1, num2):\n",
    "        div = num1 / num2\n",
    "        return div\n",
    "\n",
    "def exponente(num1):\n",
    "        exp = m.exp(num1)\n",
    "        return exp\n",
    "\n",
    "num1 = int(input(\"Numero 1: \"))\n",
    "\n",
    "num2 = int(input(\"Numero 2: \"))\n",
    "\n",
    "print(\"Suma: \",+suma(num1,num2))\n",
    "\n",
    "print(\"Resta: \", +resta(num1,num2))\n",
    "\n",
    "print(\"Multiplicacion: \", +multiplicacion(num1,num2))\n",
    "\n",
    "print(\"Division: \", +division(num1,num2))\n",
    "\n",
    "print(\"Exponencial: \", +exponente(num1))"
   ]
  },
  {
   "cell_type": "markdown",
   "metadata": {},
   "source": [
    "\n",
    "Tuplas\n",
    "\n",
    "Crear una variable flotante, integer, boleana y compleja e imprimir el tipo de variable que es.\n",
    "\n",
    "Crear una tupla con valores enteros imprimir el primer y ultimo valor.\n",
    "\n",
    "Añadir 3 valores de string a la tupla.\n",
    "\n",
    "Verificar si una variable existe dentro de la tupla."
   ]
  },
  {
   "cell_type": "code",
   "execution_count": 27,
   "metadata": {},
   "outputs": [
    {
     "name": "stdout",
     "output_type": "stream",
     "text": [
      "7.77 <class 'float'>\n",
      "7 <class 'int'>\n",
      "0 <class 'bool'>\n",
      "(7+7j) <class 'complex'>\n"
     ]
    }
   ],
   "source": [
    "flotante = 7.77\n",
    "integer = 7\n",
    "booleana = False\n",
    "compleja = 7 + 7j\n",
    "\n",
    "print(+flotante, type(flotante))\n",
    "\n",
    "print(+integer, type(integer))\n",
    "\n",
    "print(+booleana, type(booleana))\n",
    "\n",
    "print(+compleja, type(compleja))"
   ]
  },
  {
   "cell_type": "code",
   "execution_count": 79,
   "metadata": {},
   "outputs": [
    {
     "name": "stdout",
     "output_type": "stream",
     "text": [
      "(1, 2, 3, 4)\n",
      "Primero:  1\n",
      "Ultimo:  4\n"
     ]
    }
   ],
   "source": [
    "tupla = (1, 2, 3, 4)\n",
    "print(tupla)\n",
    "print(\"Primero: \", tupla[0])\n",
    "print(\"Ultimo: \", tupla[3])"
   ]
  },
  {
   "cell_type": "code",
   "execution_count": 82,
   "metadata": {},
   "outputs": [
    {
     "name": "stdout",
     "output_type": "stream",
     "text": [
      "Tupla normal:  ('H', 'o', 'l', 'a')\n",
      "Tupla con agregados ('H', 'o', 'l', 'a', 'B', 'y', 'e')\n"
     ]
    }
   ],
   "source": [
    "tupla = (\"H\", \"o\", \"l\", \"a\")\n",
    "print(\"Tupla normal: \", tupla)\n",
    "tupla = list(tupla)\n",
    "tupla.append(\"B\")\n",
    "tupla.append(\"y\")\n",
    "tupla.append(\"e\")\n",
    "tupla = tuple(tupla)\n",
    "print(\"Tupla con agregados\", tupla)"
   ]
  },
  {
   "cell_type": "markdown",
   "metadata": {},
   "source": [
    "Listas\n",
    "\n",
    "Crear una lista con 40 elementos aleatorios enteros.\n",
    "\n",
    "Con una funcion (def) crear dos listas nuevas a partir de la lista creada por numeros aleatorios, en la cual en una esten los elementos pares, y en la otra los elementos impares.\n",
    "\n",
    "Crear dos variables con la longitud de ambas listas nuevas e imprimir las variables.\n",
    "\n",
    "Ordenar los elementos de la lista par de mayor a menor, y los de la lista impar de menor a mayor.\n",
    "\n",
    "Utilizar al menos cuatro de las funciones de listas en python en la lista original de 40 elementos."
   ]
  },
  {
   "cell_type": "code",
   "execution_count": 78,
   "metadata": {},
   "outputs": [
    {
     "name": "stdout",
     "output_type": "stream",
     "text": [
      "Elementos aleatorios [45, 96, 34, 3, 89, 60, 66, 94, 94, 49, 84, 95, 10, 6, 23, 81, 38, 33, 98, 15, 38, 29, 12, 28, 29, 91, 32, 34, 33, 12, 36, 83, 79, 78, 13, 72, 24, 2, 86, 82]\n"
     ]
    }
   ],
   "source": [
    "import random as r\n",
    "lista = []\n",
    "for i in range (0, 40):\n",
    "        lista.append(r.randint(0, 100))\n",
    "print(\"Elementos aleatorios\", lista)"
   ]
  },
  {
   "cell_type": "markdown",
   "metadata": {},
   "source": [
    "Diccionarios\n",
    "\n",
    "Crear un diccionario de 6 personas que conozcas con su primer nombre y su edad.\n",
    "\n",
    "Crear una lista con los valores de la edad y reacomodar la lista de menor a mayor valor.\n",
    "\n",
    "Usando el diccionario y un loop, imprimir solo los nombres.\n",
    "\n",
    "Añadir dos personas nuevas a tu diccionario, incluyendo edad."
   ]
  },
  {
   "cell_type": "code",
   "execution_count": 91,
   "metadata": {},
   "outputs": [
    {
     "name": "stdout",
     "output_type": "stream",
     "text": [
      "{'Armando ': 22, 'Jesus': 23, 'Joalsar': 22, 'Mitzy': 21, 'Alfonso': 23, 'Felix': 24}\n"
     ]
    }
   ],
   "source": [
    "diccionario = {\"Armando \": 22, \"Jesus\":23, \"Joalsar\": 22, \"Mitzy\": 21, \"Alfonso\": 23, \"Felix\":24 }\n",
    "print(diccionario)"
   ]
  },
  {
   "cell_type": "code",
   "execution_count": 94,
   "metadata": {},
   "outputs": [
    {
     "name": "stdout",
     "output_type": "stream",
     "text": [
      "Edades ordenadas:  [21, 22, 22, 23, 23, 24]\n"
     ]
    }
   ],
   "source": [
    "diccionario = {\"Armando \": 22, \"Jesus\":23, \"Joalsar\": 22, \"Mitzy\": 21, \"Alfonso\": 23, \"Felix\":24 }\n",
    "lista = diccionario.values()\n",
    "print(\"Edades ordenadas: \", sorted(lista))"
   ]
  },
  {
   "cell_type": "code",
   "execution_count": 97,
   "metadata": {},
   "outputs": [
    {
     "name": "stdout",
     "output_type": "stream",
     "text": [
      "Armando \n",
      "Jesus\n",
      "Joalsar\n",
      "Mitzy\n",
      "Alfonso\n",
      "Felix\n"
     ]
    }
   ],
   "source": [
    "diccionario = {\"Armando \": 22, \"Jesus\":23, \"Joalsar\": 22, \"Mitzy\": 21, \"Alfonso\": 23, \"Felix\":24 }\n",
    "\n",
    "lista=list(diccionario.keys())\n",
    "\n",
    "for i in lista:\n",
    "    print(i)"
   ]
  },
  {
   "cell_type": "code",
   "execution_count": 98,
   "metadata": {},
   "outputs": [
    {
     "name": "stdout",
     "output_type": "stream",
     "text": [
      "{'Armando ': 22, 'Jesus': 23, 'Joalsar': 22, 'Mitzy': 21, 'Alfonso': 23, 'Felix': 24, 'Victoria': 23, 'Edgar': 22}\n"
     ]
    }
   ],
   "source": [
    "diccionario = {\"Armando \": 22, \"Jesus\":23, \"Joalsar\": 22, \"Mitzy\": 21, \"Alfonso\": 23, \"Felix\":24 }\n",
    "diccionario[\"Victoria\"] = 23\n",
    "diccionario[\"Edgar\"] = 22\n",
    "print(diccionario)"
   ]
  },
  {
   "cell_type": "markdown",
   "metadata": {},
   "source": [
    "Sets\n",
    "\n",
    "Crea un set con 100 numeros aleatorios enteros del 1 al 25.\n",
    "\n",
    "Comprueba la longitud de tu set.\n",
    "\n",
    "Crea una lista de 5 numeros aleatorios del 1 al 10 y comprueba si cada valor aparece en el set inicial."
   ]
  },
  {
   "cell_type": "code",
   "execution_count": 103,
   "metadata": {},
   "outputs": [
    {
     "name": "stdout",
     "output_type": "stream",
     "text": [
      "Set:  {1, 2, 3, 4, 5, 6, 7, 8, 9, 10, 11, 12, 13, 14, 15, 16, 17, 18, 19, 20, 21, 22, 23, 24, 25}\n"
     ]
    }
   ],
   "source": [
    "import random as r\n",
    "st = set()\n",
    "for i in range(0, 100):\n",
    "    st.add(r.randint(1, 25))\n",
    "    \n",
    "print(\"Set: \", st)"
   ]
  },
  {
   "cell_type": "code",
   "execution_count": 120,
   "metadata": {},
   "outputs": [
    {
     "name": "stdout",
     "output_type": "stream",
     "text": [
      "Longitud:  25\n"
     ]
    }
   ],
   "source": [
    "import random as r\n",
    "st = set()\n",
    "for i in range(0, 100):\n",
    "    st.add(r.randint(1, 25))\n",
    "    \n",
    "print(\"Longitud: \", len(st))"
   ]
  }
 ],
 "metadata": {
  "kernelspec": {
   "display_name": "Python 3",
   "language": "python",
   "name": "python3"
  },
  "language_info": {
   "codemirror_mode": {
    "name": "ipython",
    "version": 3
   },
   "file_extension": ".py",
   "mimetype": "text/x-python",
   "name": "python",
   "nbconvert_exporter": "python",
   "pygments_lexer": "ipython3",
   "version": "3.8.3"
  }
 },
 "nbformat": 4,
 "nbformat_minor": 4
}
